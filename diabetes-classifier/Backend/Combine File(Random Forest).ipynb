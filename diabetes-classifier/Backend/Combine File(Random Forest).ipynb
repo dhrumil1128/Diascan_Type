{
 "cells": [
  {
   "cell_type": "code",
   "execution_count": 8,
   "metadata": {},
   "outputs": [],
   "source": [
    "import pandas as pd\n",
    "import numpy as np\n",
    "from sklearn.model_selection import train_test_split\n",
    "from sklearn.preprocessing import LabelEncoder\n",
    "from sklearn.ensemble import RandomForestClassifier\n",
    "\n",
    "# Load and preprocess dataset\n",
    "df = pd.read_csv(r\"C:\\Users\\Dhrumil\\Desktop\\diabetes-classifier\\Backend\\Patient_Data_Updated.csv\")\n",
    "df.fillna(method='ffill', inplace=True)\n",
    "\n",
    "# Initialize encoders\n",
    "le_type = LabelEncoder()\n",
    "le_complication = LabelEncoder()\n",
    "le_heart = LabelEncoder()\n",
    "le_kidney = LabelEncoder()\n",
    "le_nerve = LabelEncoder()\n",
    "le_eye = LabelEncoder()\n",
    "\n",
    "# Encode labels\n",
    "df['Diabetes_Type_Label'] = le_type.fit_transform(df['Diabetes_Type_Label'])\n",
    "df['Heart_Disease_'] = le_heart.fit_transform(df['Heart_Disease_Risk'])\n",
    "df['Kidney_Issues'] = le_kidney.fit_transform(df['Kidney_Issues'])\n",
    "df['Nerve_Damage'] = le_nerve.fit_transform(df['Nerve_Damage'])\n",
    "df['Eye_Problems'] = le_eye.fit_transform(df['Eye_Problems'])\n",
    "df['Diabetes_Complications'] = le_complication.fit_transform(df['Diabetes_Complications'])\n",
    "\n",
    "df = df.drop(columns=[\"Patient_ID\"])\n",
    "\n"
   ]
  },
  {
   "cell_type": "code",
   "execution_count": 9,
   "metadata": {},
   "outputs": [
    {
     "name": "stdout",
     "output_type": "stream",
     "text": [
      "Type model trained. Accuracy: 92.86%\n"
     ]
    }
   ],
   "source": [
    "# Train Diabetes Type model\n",
    "features_type = ['Age', 'BMI', 'Fasting_Glucose', 'HbA1c', 'C_Peptide', 'Insulin_Level', 'Autoantibody_Presence']\n",
    "X_type = df[features_type]\n",
    "y_type = df['Diabetes_Type_Label']\n",
    "X_train, X_test, y_train, y_test = train_test_split(X_type, y_type, test_size=0.2, random_state=42)\n",
    "\n",
    "type_model = RandomForestClassifier(n_estimators=100, random_state=42)\n",
    "type_model.fit(X_train, y_train)\n",
    "print(\"Type model trained. Accuracy: {:.2f}%\".format(type_model.score(X_test, y_test) * 100))\n"
   ]
  },
  {
   "cell_type": "code",
   "execution_count": 10,
   "metadata": {},
   "outputs": [],
   "source": [
    "# Train disease-specific models\n",
    "risk_models = {}\n",
    "for type_val, type_name in zip([0, 1], le_type.inverse_transform([0, 1])):\n",
    "    df_filtered = df[df['Diabetes_Type_Label'] == type_val]\n",
    "    X_risk = df_filtered[features_type]"
   ]
  },
  {
   "cell_type": "code",
   "execution_count": 11,
   "metadata": {},
   "outputs": [],
   "source": [
    "# Train complication model\n",
    "y_comp = df_filtered['Diabetes_Complications']\n",
    "comp_model = RandomForestClassifier(n_estimators=100, random_state=42)\n",
    "comp_model.fit(X_risk, y_comp)\n",
    "\n",
    "models = {\"complication\": comp_model}\n"
   ]
  },
  {
   "cell_type": "code",
   "execution_count": 12,
   "metadata": {},
   "outputs": [],
   "source": [
    "for col, encoder in zip(['Heart_Disease_', 'Kidney_Issues', 'Nerve_Damage', 'Eye_Problems'],\n",
    "                            [le_heart, le_kidney, le_nerve, le_eye]):\n",
    "        y = df_filtered[col]\n",
    "        model = RandomForestClassifier(n_estimators=100, random_state=42)\n",
    "        model.fit(X_risk, y)\n",
    "        models[col] = model\n",
    "\n",
    "risk_models[type_name] = models"
   ]
  },
  {
   "cell_type": "code",
   "execution_count": 14,
   "metadata": {},
   "outputs": [],
   "source": [
    "# Prediction function\n",
    "def make_prediction(sample_input):\n",
    "    pred_type = type_model.predict(sample_input)[0]\n",
    "    type_label = le_type.inverse_transform([pred_type])[0]\n",
    "\n",
    "    # Predict complication stage\n",
    "    comp_model = risk_models[type_label]['complication']\n",
    "    comp_probs = comp_model.predict_proba(sample_input)[0]\n",
    "    comp_classes = le_complication.inverse_transform(range(len(comp_probs)))\n",
    "    comp_index = np.argmax(comp_probs)\n",
    "    complication_stage = comp_classes[comp_index]\n",
    "\n",
    "    # Analyze disease risks\n",
    "    concerns = []\n",
    "    probs_sum = 0\n",
    "    count = 0\n",
    "\n",
    "    for label, model in risk_models[type_label].items():\n",
    "        if label == 'complication':\n",
    "            continue\n",
    "\n",
    "        probs = model.predict_proba(sample_input)[0]\n",
    "        encoder = {\n",
    "            'Heart_Disease_': le_heart,\n",
    "            'Kidney_Issues': le_kidney,\n",
    "            'Nerve_Damage': le_nerve,\n",
    "            'Eye_Problems': le_eye\n",
    "        }[label]\n",
    "\n",
    "        pred_idx = np.argmax(probs)\n",
    "        pred_label = encoder.inverse_transform([pred_idx])[0]\n",
    "        confidence = probs[pred_idx]\n",
    "\n",
    "        # Set concern level even if label is \"None\"\n",
    "        if confidence >= 0.75:\n",
    "            concern_level = \"High\"\n",
    "        elif confidence >= 0.5:\n",
    "            concern_level = \"Moderate\"\n",
    "        else:\n",
    "            concern_level = \"Low\"\n",
    "\n",
    "        # Format output\n",
    "        if label == \"Eye_Problems\":\n",
    "            concern_str = f\"Eye Problems : {pred_label}\"\n",
    "        elif label == \"Heart_Disease_\":\n",
    "            concern_str = f\"Heart Disease : {pred_label}\"\n",
    "        elif label == \"Kidney_Issues\":\n",
    "            concern_str = f\"Kidney Issues : {pred_label}\"\n",
    "        elif label == \"Nerve_Damage\":\n",
    "            concern_str = f\"Nerve Damage : {pred_label}\"\n",
    "        else:\n",
    "            concern_str = f\"{label.replace('_', ' ')} : {pred_label}\"\n",
    "\n",
    "        concerns.append(concern_str)\n",
    "\n",
    "        if pred_label != \"None\":\n",
    "            probs_sum += confidence\n",
    "            count += 1\n",
    "\n",
    "    overall_damage = (probs_sum / count) * 100 if count else 0.0\n",
    "\n",
    "    # Output format\n",
    "    print(f\"\\nDiabetes_Type : {type_label}\")\n",
    "    for concern in concerns:\n",
    "        print(concern)\n",
    "    print(f\"Diabetes_Complications: {complication_stage}\")\n",
    "    print(f\"Overall Damage Probability: {overall_damage:.1f}%\\n\")\n",
    "\n"
   ]
  },
  {
   "cell_type": "code",
   "execution_count": 16,
   "metadata": {},
   "outputs": [
    {
     "name": "stdout",
     "output_type": "stream",
     "text": [
      "\n",
      "Diabetes_Type : Type 2 Diabetes\n",
      "Heart Disease : Low\n",
      "Kidney Issues : Mild\n",
      "Nerve Damage : Mild\n",
      "Eye Problems : Retinopathy\n",
      "Diabetes_Complications: Controlled\n",
      "Overall Damage Probability: 73.8%\n",
      "\n"
     ]
    }
   ],
   "source": [
    "# Sample test input\n",
    "custom_input = pd.DataFrame([{\n",
    "    \"Age\": 61,\n",
    "    \"BMI\": 23.7,\n",
    "    \"Fasting_Glucose\": 231,\n",
    "    \"HbA1c\": 4.9,\n",
    "    \"C_Peptide\": 2.2,\n",
    "    \"Insulin_Level\": 4.5,\n",
    "    \"Autoantibody_Presence\": 1\n",
    "}])\n",
    "\n",
    "make_prediction(custom_input)"
   ]
  },
  {
   "cell_type": "markdown",
   "metadata": {},
   "source": [
    "#Save The Model :"
   ]
  },
  {
   "cell_type": "code",
   "execution_count": 18,
   "metadata": {},
   "outputs": [
    {
     "name": "stdout",
     "output_type": "stream",
     "text": [
      "✅ All models and encoders saved successfully including Type 1 (if data exists).\n"
     ]
    }
   ],
   "source": [
    "import joblib\n",
    "import os\n",
    "\n",
    "# Create directory to save models\n",
    "save_dir = \"saved_models\"\n",
    "os.makedirs(save_dir, exist_ok=True)\n",
    "\n",
    "# Save the main diabetes type classifier\n",
    "joblib.dump(type_model, os.path.join(save_dir, \"type_model.pkl\"))\n",
    "\n",
    "# Save risk prediction models for each diabetes type dynamically\n",
    "for type_val in df['Diabetes_Type_Label'].unique():\n",
    "    type_name = le_type.inverse_transform([type_val])[0]\n",
    "    df_filtered = df[df['Diabetes_Type_Label'] == type_val]\n",
    "\n",
    "    if df_filtered.shape[0] < 10:\n",
    "        print(f\"⚠️ Skipping {type_name} — not enough data to train reliable models.\")\n",
    "        continue\n",
    "\n",
    "    X_risk = df_filtered[features_type]\n",
    "\n",
    "    # Train and save complication model\n",
    "    comp_model = RandomForestClassifier(n_estimators=100, random_state=42)\n",
    "    comp_model.fit(X_risk, df_filtered['Diabetes_Complications'])\n",
    "    joblib.dump(comp_model, os.path.join(save_dir, f\"{type_name}_complication_model.pkl\"))\n",
    "\n",
    "    # Train and save organ-specific models\n",
    "    for col, encoder, label in zip(\n",
    "        ['Heart_Disease_', 'Kidney_Issues', 'Nerve_Damage', 'Eye_Problems'],\n",
    "        [le_heart, le_kidney, le_nerve, le_eye],\n",
    "        ['Heart_Disease', 'Kidney_Issues', 'Nerve_Damage', 'Eye_Problems']\n",
    "    ):\n",
    "        model = RandomForestClassifier(n_estimators=100, random_state=42)\n",
    "        model.fit(X_risk, df_filtered[col])\n",
    "        joblib.dump(model, os.path.join(save_dir, f\"{type_name}_{label}_model.pkl\"))\n",
    "\n",
    "# Save all label encoders\n",
    "joblib.dump(le_type, os.path.join(save_dir, \"le_type.pkl\"))\n",
    "joblib.dump(le_complication, os.path.join(save_dir, \"le_complication.pkl\"))\n",
    "joblib.dump(le_heart, os.path.join(save_dir, \"le_heart.pkl\"))\n",
    "joblib.dump(le_kidney, os.path.join(save_dir, \"le_kidney.pkl\"))\n",
    "joblib.dump(le_nerve, os.path.join(save_dir, \"le_nerve.pkl\"))\n",
    "joblib.dump(le_eye, os.path.join(save_dir, \"le_eye.pkl\"))\n",
    "\n",
    "print(\"✅ All models and encoders saved successfully including Type 1 (if data exists).\")\n"
   ]
  }
 ],
 "metadata": {
  "kernelspec": {
   "display_name": "base",
   "language": "python",
   "name": "python3"
  },
  "language_info": {
   "codemirror_mode": {
    "name": "ipython",
    "version": 3
   },
   "file_extension": ".py",
   "mimetype": "text/x-python",
   "name": "python",
   "nbconvert_exporter": "python",
   "pygments_lexer": "ipython3",
   "version": "3.10.9"
  }
 },
 "nbformat": 4,
 "nbformat_minor": 2
}
